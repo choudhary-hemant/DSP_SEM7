{
  "nbformat": 4,
  "nbformat_minor": 0,
  "metadata": {
    "colab": {
      "name": "EE41013_15EE35023_EnergyCompactionPropertiesofTransform.ipynb",
      "version": "0.3.2",
      "provenance": []
    },
    "kernelspec": {
      "name": "python3",
      "display_name": "Python 3"
    }
  },
  "cells": [
    {
      "metadata": {
        "id": "LHtNROq_WC6h",
        "colab_type": "code",
        "colab": {}
      },
      "cell_type": "code",
      "source": [
        "import numpy as np\n",
        "import pandas as pd\n",
        "import cmath\n",
        "import math\n",
        "import random\n",
        "import matplotlib.pyplot as plt"
      ],
      "execution_count": 0,
      "outputs": []
    },
    {
      "metadata": {
        "id": "WeS0nLe7WgA3",
        "colab_type": "code",
        "colab": {}
      },
      "cell_type": "code",
      "source": [
        "def dct(x,N):\n",
        "    Z = [0]*(N)\n",
        "    for k in range(N):\n",
        "        for i in range(N):\n",
        "            Z[k] = Z[k] + 2*x[i]*math.cos(math.pi * k * (2*i + 1)/ (2 *N))\n",
        "    return Z"
      ],
      "execution_count": 0,
      "outputs": []
    },
    {
      "metadata": {
        "id": "cGMXT02pWkGL",
        "colab_type": "code",
        "colab": {}
      },
      "cell_type": "code",
      "source": [
        "def idct(x,N):\n",
        "\n",
        "    Z = [0]*(N)\n",
        "    for n in range(N):\n",
        "        for k in range(N):\n",
        "            if(k == 0):\n",
        "                Z[n] = Z[n] + (1/2)*x[k]*math.cos(math.pi * k * (2*n + 1)/ (2 *N))\n",
        "            else:\n",
        "                Z[n] = Z[n] + x[k]*math.cos(math.pi * k * (2*n + 1)/ (2 *N))\n",
        "        \n",
        "                \n",
        "        Z[n] = (1/N) * Z[n]\n",
        "\n",
        "    return Z"
      ],
      "execution_count": 0,
      "outputs": []
    },
    {
      "metadata": {
        "id": "-Hq5-nEHWnM_",
        "colab_type": "code",
        "colab": {}
      },
      "cell_type": "code",
      "source": [
        "def dft(x,N):\n",
        "    W = complex(math.cos(2*math.pi/N), -math.sin(2*math.pi/N))\n",
        "    W_matrix = np.ndarray(shape=(N,N), dtype=np.complex128)\n",
        "    for i in range(N):\n",
        "        for j in range(N):\n",
        "            W_matrix[i][j] = (W**(i*j))\n",
        "    x = np.matrix(x)\n",
        "    return np.array(W_matrix.dot(x.T))[:,0]"
      ],
      "execution_count": 0,
      "outputs": []
    },
    {
      "metadata": {
        "id": "l_dRWxaQWqN1",
        "colab_type": "code",
        "colab": {}
      },
      "cell_type": "code",
      "source": [
        "def idft(x,N):\n",
        "    W = complex(math.cos(2*math.pi/N), -math.sin(2*math.pi/N))\n",
        "    W_matrix = np.ndarray(shape=(N,N), dtype=np.complex128)\n",
        "    for i in range(N):\n",
        "        for j in range(N):\n",
        "            W_matrix[i][j] = 1/(W**(i*j))\n",
        "    x = np.matrix(x)\n",
        "    return (1/N)*np.array(W_matrix.dot(x.T))[:,0]"
      ],
      "execution_count": 0,
      "outputs": []
    },
    {
      "metadata": {
        "id": "lVtBuUQdWsxk",
        "colab_type": "code",
        "colab": {}
      },
      "cell_type": "code",
      "source": [
        "h2 = np.array([[1,1],[1,-1]])#/math.sqrt(2)\n",
        "def haar_mat(n):\n",
        "    n = int(n)\n",
        "    if n == 1:\n",
        "        return h2\n",
        "    else:\n",
        "        a = np.kron(haar_mat(n-1),[1,1])\n",
        "        b = np.kron(np.identity(int(math.pow(2,n-1)))*math.pow(2,(n-1)/2.0),[1,-1])\n",
        "       \n",
        "        return np.concatenate((a,b),axis=0)#/math.sqrt(2)\n",
        "def haar(x):\n",
        "    return np.matmul(haar_mat(math.log(len(x),2)),np.transpose(x))"
      ],
      "execution_count": 0,
      "outputs": []
    },
    {
      "metadata": {
        "id": "jOI3JXPTWvui",
        "colab_type": "code",
        "colab": {}
      },
      "cell_type": "code",
      "source": [
        "def inverse_haar(y):\n",
        "    n = int(math.log(len(y),2))\n",
        "    N = len(y)\n",
        "    hn = haar_mat(n)\n",
        "    return np.matmul(np.transpose(hn)/N,np.transpose(y))"
      ],
      "execution_count": 0,
      "outputs": []
    },
    {
      "metadata": {
        "id": "F9PRQTkPWyO9",
        "colab_type": "code",
        "colab": {}
      },
      "cell_type": "code",
      "source": [
        "L = [i for i in range(64)]\n",
        "def modified_dct(x, N):\n",
        "    x_mod = []\n",
        "    for l in L:\n",
        "        y = [0]*N\n",
        "        for i in range(N-l):\n",
        "            y[i] = x[i]\n",
        "        x_mod.append(y)\n",
        "    return x_mod"
      ],
      "execution_count": 0,
      "outputs": []
    },
    {
      "metadata": {
        "id": "V733vOBhW1D7",
        "colab_type": "code",
        "colab": {}
      },
      "cell_type": "code",
      "source": [
        "def modified_dft(x,N):\n",
        "    x_mod = []\n",
        "    for l in L:\n",
        "        y = [0]*N\n",
        "        for i in range(int(((N-l-1)/2))+ 1):\n",
        "            y[i] = x[i]\n",
        "        for j in range(int((N+l+1)/2),N):\n",
        "            y[j] = x[j]\n",
        "        x_mod.append(y)\n",
        "    return x_mod"
      ],
      "execution_count": 0,
      "outputs": []
    },
    {
      "metadata": {
        "id": "PnIEw5U1W35d",
        "colab_type": "code",
        "colab": {}
      },
      "cell_type": "code",
      "source": [
        "def modified_haar(x, N):\n",
        "    x_mod = []\n",
        "    for l in L:\n",
        "        y = [0]*N\n",
        "        for i in range(N-l):\n",
        "            y[i] = x[i]\n",
        "        x_mod.append(y)\n",
        "    return x_mod"
      ],
      "execution_count": 0,
      "outputs": []
    },
    {
      "metadata": {
        "id": "2hVTb1PXW6jw",
        "colab_type": "code",
        "colab": {}
      },
      "cell_type": "code",
      "source": [
        "#Array Input of length 64\n",
        "z = []\n",
        "z_ = []\n",
        "N = 64\n",
        "for i in range(N):\n",
        "    z.append(random.uniform(0, 100))\n",
        "for i in range(N):\n",
        "    z_.append(complex(z[i]))"
      ],
      "execution_count": 0,
      "outputs": []
    },
    {
      "metadata": {
        "id": "sKuf-8SXW9Y1",
        "colab_type": "code",
        "colab": {}
      },
      "cell_type": "code",
      "source": [
        "z_dct = dct(z,N)\n",
        "mod_dct = modified_dct(z_dct,N)\n",
        "mod_idct = []\n",
        "for j in range(N):\n",
        "    mod_idct.append(idct(mod_dct[j],N))"
      ],
      "execution_count": 0,
      "outputs": []
    },
    {
      "metadata": {
        "id": "FUpnVnZsW_5y",
        "colab_type": "code",
        "colab": {}
      },
      "cell_type": "code",
      "source": [
        "#Energy Compaction of DCT\n",
        "e_dct = []\n",
        "for i in range(N):\n",
        "    e_dct.append((np.sum(abs(np.array(z)-np.array(mod_idct[i]))**2)) / N)"
      ],
      "execution_count": 0,
      "outputs": []
    },
    {
      "metadata": {
        "id": "kmqSOiRvXCwJ",
        "colab_type": "code",
        "colab": {}
      },
      "cell_type": "code",
      "source": [
        "z_dft = dft(z_,N)\n",
        "mod_dft = modified_dft(z_dft,N)\n",
        "mod_idft = []\n",
        "for j in range(N):\n",
        "    mod_idft.append(idft(mod_dft[j],N))\n",
        "    "
      ],
      "execution_count": 0,
      "outputs": []
    },
    {
      "metadata": {
        "id": "wWBGJ8qAXFX5",
        "colab_type": "code",
        "colab": {}
      },
      "cell_type": "code",
      "source": [
        "#Energy Compaction of DFT\n",
        "e_dft = []\n",
        "for i in range(N):\n",
        "    e_dft.append((np.sum(abs(np.array(z_)-np.array(mod_idft[i]))**2)) / N)"
      ],
      "execution_count": 0,
      "outputs": []
    },
    {
      "metadata": {
        "id": "bS0NqUXzXJky",
        "colab_type": "code",
        "colab": {}
      },
      "cell_type": "code",
      "source": [
        "x = np.array(z)\n",
        "z_haar = haar(x)\n",
        "mod_haar = modified_haar(z_haar,N)\n",
        "mod_ihaar = []\n",
        "for j in range(N):\n",
        "    mod_ihaar.append(inverse_haar(mod_haar[j]))"
      ],
      "execution_count": 0,
      "outputs": []
    },
    {
      "metadata": {
        "id": "CdAL01FUXMEU",
        "colab_type": "code",
        "colab": {}
      },
      "cell_type": "code",
      "source": [
        "#Energy Compaction of Haar\n",
        "e_haar = []\n",
        "for i in range(N):\n",
        "    e_haar.append((np.sum(abs(x-np.array(mod_ihaar[i]))**2)) / N)"
      ],
      "execution_count": 0,
      "outputs": []
    },
    {
      "metadata": {
        "id": "sKllhODEXOlV",
        "colab_type": "code",
        "colab": {
          "base_uri": "https://localhost:8080/",
          "height": 347
        },
        "outputId": "a19d5d72-afab-460d-9623-a720e915ea96"
      },
      "cell_type": "code",
      "source": [
        "plt.plot(e_dct,'r')\n",
        "plt.plot(e_dft, 'g')\n",
        "plt.plot(e_haar,'b')\n",
        "plt.show()"
      ],
      "execution_count": 151,
      "outputs": [
        {
          "output_type": "display_data",
          "data": {
            "image/png": "[encoded data removed]",
            "text/plain": [
              "<matplotlib.figure.Figure at 0x7fb90819e828>"
            ]
          },
          "metadata": {
            "tags": []
          }
        }
      ]
    },
    {
      "metadata": {
        "id": "c23WqVIOrTmO",
        "colab_type": "code",
        "colab": {}
      },
      "cell_type": "code",
      "source": [
        ""
      ],
      "execution_count": 0,
      "outputs": []
    }
  ]
}